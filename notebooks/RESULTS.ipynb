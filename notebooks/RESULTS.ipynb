{
 "cells": [
  {
   "cell_type": "markdown",
   "metadata": {},
   "source": [
    "To reproduce our results, you can download the matrices we generated from the following link:\n",
    "https://drive.google.com/file/d/18HsH8Kk1XNEtbYxdsJ_sK10d-gJQHYiX\n",
    "\n"
   ]
  },
  {
   "cell_type": "code",
   "execution_count": 119,
   "metadata": {},
   "outputs": [
    {
     "name": "stdout",
     "output_type": "stream",
     "text": [
      "The autoreload extension is already loaded. To reload it, use:\n",
      "  %reload_ext autoreload\n",
      "%pylab is deprecated, use %matplotlib inline and import the required libraries.\n",
      "Populating the interactive namespace from numpy and matplotlib\n"
     ]
    },
    {
     "name": "stderr",
     "output_type": "stream",
     "text": [
      "/home/jcardenuto/anaconda3/envs/papermill/lib/python3.8/site-packages/IPython/core/magics/pylab.py:162: UserWarning: pylab import has clobbered these variables: ['f']\n",
      "`%matplotlib` prevents importing * from pylab and numpy\n",
      "  warn(\"pylab import has clobbered these variables: %s\"  % clobbered +\n"
     ]
    }
   ],
   "source": [
    "from glob import glob\n",
    "import os\n",
    "%load_ext autoreload\n",
    "%autoreload 2\n",
    "from generate_groups import panel_provenance_groups, document_provenance\n",
    "import json\n",
    "from metrics import panel_evaluation, doc_evaluation, rp_eval, rr_eval, global_precision, global_recall, f1, gp_eval, gr_eval\n",
    "import pandas as pd\n",
    "from pathlib import Path\n",
    "from tqdm.notebook import tqdm\n",
    "%pylab inline"
   ]
  },
  {
   "cell_type": "markdown",
   "metadata": {},
   "source": [
    "### CODE FOR CHECKING THE RESULTS"
   ]
  },
  {
   "cell_type": "code",
   "execution_count": 99,
   "metadata": {},
   "outputs": [],
   "source": [
    "def digest_panel_results(method_input, our_annotation):\n",
    "\n",
    "    all_predicted_graphs = {}\n",
    "    index = 1\n",
    "    results = {} \n",
    "    results['global'] = {}\n",
    "    results_rp = pd.DataFrame()\n",
    "    results_rr = pd.DataFrame()\n",
    "    results_gp = pd.DataFrame()\n",
    "    results_gr = pd.DataFrame()\n",
    "    total_dataset = 0\n",
    "    for method_name, adj_matrix, _class, dataset in method_input:\n",
    "        adj_matrix = np.load(adj_matrix)\n",
    "        with open(f'../dataset/{dataset}/{_class}-dataset.json') as f:\n",
    "            dataset = json.load(f)\n",
    "        predicted_graphs = panel_provenance_groups(dataset, adj_matrix)\n",
    "        metrics = panel_evaluation(predicted_graphs, our_annotation, dataset, adj_matrix, _class)\n",
    "    \n",
    "        for pred in predicted_graphs.values():\n",
    "            all_predicted_graphs[f'GROUP-{index}'] = pred\n",
    "            index +=1\n",
    "        results[_class] = {'pairing': metrics[\"relationship_quality\"],\n",
    "                           'grouping': metrics[\"grouping_quality\"],\n",
    "                           }\n",
    "        # Relationship eval\n",
    "        rp = rp_eval(predicted_graphs, our_annotation, dataset, adj_matrix)\n",
    "        rr = rr_eval(predicted_graphs, our_annotation, dataset, adj_matrix)\n",
    "\n",
    "        results_rp = pd.concat([results_rp, rp[rp['Class'] == _class]])\n",
    "        results_rr =  pd.concat([results_rr, rr[rr['Class'] == _class]])\n",
    "        # Grouping eval\n",
    "        gp = gp_eval(predicted_graphs, our_annotation)\n",
    "        gr = gr_eval(predicted_graphs, our_annotation)\n",
    "        results_gp = pd.concat([results_gp, gp[gp['Class'] == _class]])\n",
    "        results_gr = pd.concat([results_gr, gr[gr['Class'] == _class]])\n",
    "\n",
    "\n",
    "    precision = global_precision(all_predicted_graphs, our_annotation, ignore_graphs=True)\n",
    "    recall =  global_recall(all_predicted_graphs, our_annotation, ignore_graphs=True)\n",
    "    results['global']['classification'] = f1(precision, recall)\n",
    "    results['global']['pairing'] = f1(results_rp['Precision'].mean(), results_rr['Recall'].mean())\n",
    "    results['global']['grouping'] = f1(results_gp['Precision'].mean(), results_gr['Recall'].mean())\n",
    "    return results"
   ]
  },
  {
   "cell_type": "markdown",
   "metadata": {},
   "source": [
    "# Panel Evaluation"
   ]
  },
  {
   "cell_type": "code",
   "execution_count": 112,
   "metadata": {},
   "outputs": [],
   "source": [
    "# Load Data\n",
    "sila_spp = [('SILA', 'adjacency-matrices/SPP/sila/Microscopy.npy','Microscopy', 'spm'),\n",
    "('SILA', 'adjacency-matrices/SPP/sila/Blots.npy','Blots', 'spm'),\n",
    "('SILA', 'adjacency-matrices/SPP/sila/FlowCytometry.npy','FlowCytometry', 'spm')]\n",
    "\n",
    "sila_spp_v1 = [('SILA', 'adjacency-matrices/SPP-v1/sila/Microscopy.npy','Microscopy', 'spm-v1'),\n",
    "('SILA', 'adjacency-matrices/SPP-v1/sila/Blots.npy','Blots', 'spm-v1'),\n",
    "('SILA', 'adjacency-matrices/SPP-v1/sila/FlowCytometry.npy','FlowCytometry', 'spm-v1')]\n",
    "\n",
    "sila_spp_v2 = [('SILA', 'adjacency-matrices/SPP-v2/sila/Microscopy.npy','Microscopy', 'spm-v2'),\n",
    "('SILA', 'adjacency-matrices/SPP-v2/sila/Blots.npy','Blots', 'spm-v2'),\n",
    "('SILA', 'adjacency-matrices/SPP-v2/sila/FlowCytometry.npy','FlowCytometry', 'spm-v2')]\n",
    "\n",
    "ours_spp = [('Ours', 'adjacency-matrices/SPP/ours/vlfeat_sift_heq-BF-CV_MAGSAC-400-20-300-0.01-Microscopy.npy','Microscopy', 'spm'),\n",
    "('Ours', 'adjacency-matrices/SPP/ours/vlfeat_sift_heq-BF-CV_MAGSAC-400-20-300-0.01-Blots.npy','Blots', 'spm'),\n",
    "('Ours', 'adjacency-matrices/SPP/ours/vlfeat_sift_heq-BF-CV_MAGSAC-400-20-300-0.01-FlowCytometry.npy','FlowCytometry', 'spm')]\n",
    "\n",
    "ours_spp_v1 = [('Ours', 'adjacency-matrices/SPP-v1/ours/vlfeat_sift_heq-BF-CV_MAGSAC-400-20-300-0.01-Microscopy.npy','Microscopy', 'spm-v1'),\n",
    "('Ours', 'adjacency-matrices/SPP-v1/ours/vlfeat_sift_heq-BF-CV_MAGSAC-400-20-300-0.01-Blots.npy','Blots', 'spm-v1'),\n",
    "('Ours', 'adjacency-matrices/SPP-v1/ours/vlfeat_sift_heq-BF-CV_MAGSAC-400-20-300-0.01-FlowCytometry.npy','FlowCytometry', 'spm-v1')]\n",
    "\n",
    "ours_spp_v2 = [('Ours', 'adjacency-matrices/SPP-v2/ours/vlfeat_sift_heq-BF-CV_MAGSAC-400-20-300-0.01-Microscopy.npy','Microscopy', 'spm-v2'),\n",
    "('Ours', 'adjacency-matrices/SPP-v2/ours/vlfeat_sift_heq-BF-CV_MAGSAC-400-20-300-0.01-Blots.npy','Blots', 'spm-v2'),\n",
    "('Ours', 'adjacency-matrices/SPP-v2/ours/vlfeat_sift_heq-BF-CV_MAGSAC-400-20-300-0.01-FlowCytometry.npy','FlowCytometry', 'spm-v2')]\n",
    "\n",
    "acuna_spp = [('Acuna', 'adjacency-matrices/SPP/acuna/Microscopy-adjacency_matrix.npy','Microscopy', 'spm'),\n",
    "('Acuna', 'adjacency-matrices/SPP/acuna/Blots-adjacency_matrix.npy','Blots', 'spm'),\n",
    "('Acuna', 'adjacency-matrices/SPP/acuna/FlowCytometry-adjacency_matrix.npy','FlowCytometry', 'spm')]\n",
    "\n",
    "acuna_spp_v1 = [('Acuna', 'adjacency-matrices/SPP-v1/acuna/Microscopy-adjacency_matrix.npy','Microscopy', 'spm-v1'),\n",
    "('Acuna', 'adjacency-matrices/SPP-v1/acuna/Blots-adjacency_matrix.npy','Blots', 'spm-v1'),\n",
    "('Acuna', 'adjacency-matrices/SPP-v1/acuna/FlowCytometry-adjacency_matrix.npy','FlowCytometry', 'spm-v1')]\n",
    "\n",
    "acuna_spp_v2 = [('Acuna', 'adjacency-matrices/SPP-v2/acuna/Microscopy-adjacency_matrix.npy','Microscopy', 'spm-v2'),\n",
    "('Acuna', 'adjacency-matrices/SPP-v2/acuna/Blots-adjacency_matrix.npy','Blots', 'spm-v2'),\n",
    "('Acuna', 'adjacency-matrices/SPP-v2/acuna/FlowCytometry-adjacency_matrix.npy','FlowCytometry', 'spm-v2')]\n"
   ]
  },
  {
   "cell_type": "code",
   "execution_count": null,
   "metadata": {},
   "outputs": [],
   "source": [
    "# Load Ground Truth\n",
    "with open(\"our_annotation.json\") as f:\n",
    "    our_annotation = json.load(f)\n"
   ]
  },
  {
   "cell_type": "code",
   "execution_count": 113,
   "metadata": {},
   "outputs": [],
   "source": [
    "# SPP results\n",
    "spp_results = {}\n",
    "spp_results['SILA'] = digest_panel_results(sila_spp, our_annotation)[\"global\"]\n",
    "spp_results['Ours'] = digest_panel_results(ours_spp, our_annotation)[\"global\"]\n",
    "spp_results['Acuna'] = digest_panel_results(acuna_spp, our_annotation)[\"global\"]\n"
   ]
  },
  {
   "cell_type": "code",
   "execution_count": 114,
   "metadata": {},
   "outputs": [
    {
     "data": {
      "text/plain": [
       "{'SILA': {'classification': 0.8447136563876652,\n",
       "  'pairing': 0.7282079889302411,\n",
       "  'grouping': 0.8069200272343928},\n",
       " 'Ours': {'classification': 0.8690026954177897,\n",
       "  'pairing': 0.7410617928984826,\n",
       "  'grouping': 0.8363649092931222},\n",
       " 'Acuna': {'classification': 0.8736532810969637,\n",
       "  'pairing': 0.5360969926234008,\n",
       "  'grouping': 0.8129067016626514}}"
      ]
     },
     "execution_count": 114,
     "metadata": {},
     "output_type": "execute_result"
    }
   ],
   "source": [
    "spp_results"
   ]
  },
  {
   "cell_type": "code",
   "execution_count": 115,
   "metadata": {},
   "outputs": [],
   "source": [
    "# SPP-v1 results\n",
    "spp_v1_results = {}\n",
    "spp_v1_results['SILA'] = digest_panel_results(sila_spp_v1, our_annotation)[\"global\"]\n",
    "spp_v1_results['Ours'] = digest_panel_results(ours_spp_v1, our_annotation)[\"global\"]\n",
    "spp_v1_results['Acuna'] = digest_panel_results(acuna_spp_v1, our_annotation)[\"global\"]\n"
   ]
  },
  {
   "cell_type": "code",
   "execution_count": 116,
   "metadata": {},
   "outputs": [
    {
     "data": {
      "text/plain": [
       "{'SILA': {'classification': 0.7842535787321063,\n",
       "  'pairing': 0.6717441386663093,\n",
       "  'grouping': 0.7496533466649101},\n",
       " 'Ours': {'classification': 0.8707409410492158,\n",
       "  'pairing': 0.7412034305335525,\n",
       "  'grouping': 0.8380612987267677},\n",
       " 'Acuna': {'classification': 0.4731125827814569,\n",
       "  'pairing': 0.2713730280298792,\n",
       "  'grouping': 0.26283854517445004}}"
      ]
     },
     "execution_count": 116,
     "metadata": {},
     "output_type": "execute_result"
    }
   ],
   "source": [
    "spp_v1_results"
   ]
  },
  {
   "cell_type": "code",
   "execution_count": 117,
   "metadata": {},
   "outputs": [],
   "source": [
    "# SPP-v2 results\n",
    "spp_v2_results = {}\n",
    "spp_v2_results['SILA'] = digest_panel_results(sila_spp_v2, our_annotation)[\"global\"]\n",
    "spp_v2_results['Ours'] = digest_panel_results(ours_spp_v2, our_annotation)[\"global\"]\n",
    "spp_v2_results['Acuna'] = digest_panel_results(acuna_spp_v2, our_annotation)[\"global\"]\n"
   ]
  },
  {
   "cell_type": "code",
   "execution_count": 118,
   "metadata": {},
   "outputs": [
    {
     "data": {
      "text/plain": [
       "{'SILA': {'classification': 0.649724692926726,\n",
       "  'pairing': 0.5486731369747352,\n",
       "  'grouping': 0.6219617835071215},\n",
       " 'Ours': {'classification': 0.8698481561822126,\n",
       "  'pairing': 0.7339883530120476,\n",
       "  'grouping': 0.8365592769815049},\n",
       " 'Acuna': {'classification': 0.1293461153240807,\n",
       "  'pairing': 0.06787681886978132,\n",
       "  'grouping': 0.02595565842507837}}"
      ]
     },
     "execution_count": 118,
     "metadata": {},
     "output_type": "execute_result"
    }
   ],
   "source": [
    "spp_v2_results"
   ]
  },
  {
   "cell_type": "markdown",
   "metadata": {},
   "source": [
    "# Document-Level Evaluation"
   ]
  },
  {
   "cell_type": "code",
   "execution_count": null,
   "metadata": {},
   "outputs": [],
   "source": [
    "\n",
    "sila_spp = [('SILA', 'adjacency-matrices/SPP/sila/Microscopy.npy','Microscopy', 'spm'),\n",
    "('SILA', 'adjacency-matrices/SPP/sila/Blots.npy','Blots', 'spm'),\n",
    "('SILA', 'adjacency-matrices/SPP/sila/FlowCytometry.npy','FlowCytometry', 'spm')]"
   ]
  },
  {
   "cell_type": "code",
   "execution_count": 144,
   "metadata": {},
   "outputs": [],
   "source": [
    "# Creates document dataset\n",
    "def create_doc_dataset(data_version):\n",
    "    doc_dataset = set()\n",
    "    for _class in ['Microscopy', 'Blots', 'FlowCytometry', 'BodyImaging']:\n",
    "        if not os.path.isfile(f'../dataset/{data_version}/{_class}-dataset.json'):\n",
    "            continue\n",
    "        for data in glob(f'../dataset/{data_version}/{_class}-dataset.json'):\n",
    "            with open(data) as f:\n",
    "                dataset = json.load(f)\n",
    "            doc_data = [d['doc_id'] for d in dataset.values()]\n",
    "            doc_dataset = doc_dataset.union(doc_data)\n",
    "    doc_dataset = sorted(list(doc_dataset))\n",
    "    return doc_dataset"
   ]
  },
  {
   "cell_type": "code",
   "execution_count": 155,
   "metadata": {},
   "outputs": [],
   "source": [
    "# Load Data\n",
    "spp_doc_dataset = create_doc_dataset('spm')\n",
    "spp_v1_doc_dataset = create_doc_dataset('spm-v1')\n",
    "spp_v2_doc_dataset = create_doc_dataset('spm-v2')\n",
    "\n",
    "# Load annotatation\n",
    "with open(\"document-level-annotation.json\") as f:\n",
    "    doc_annotation = json.load(f)"
   ]
  },
  {
   "cell_type": "code",
   "execution_count": 163,
   "metadata": {},
   "outputs": [],
   "source": [
    "def create_doc_adj_matrix(method_input, doc_dataset):\n",
    "    \n",
    "    doc_adjacency_matrix = np.zeros((len(doc_dataset), len(doc_dataset)))\n",
    "\n",
    "    for matrix, dataset in method_input:\n",
    "        panel_adjacency_matrix = np.load(matrix)\n",
    "        with open(dataset) as f:\n",
    "            panel_dataset = json.load(f)\n",
    "            \n",
    "        for i in range(len(panel_adjacency_matrix)):\n",
    "            for j in range(i+1,len(panel_adjacency_matrix)):\n",
    "                if panel_adjacency_matrix[i,j]:\n",
    "                    doc_i = doc_dataset.index(panel_dataset[str(i)]['doc_id'])\n",
    "                    doc_j = doc_dataset.index(panel_dataset[str(j)]['doc_id'])\n",
    "                    \n",
    "                    # Mark that the document share elements\n",
    "                    doc_adjacency_matrix[doc_i,doc_j] += 1\n",
    "                    doc_adjacency_matrix[doc_j,doc_i] += 1\n",
    "    return doc_adjacency_matrix\n",
    "\n",
    "# Create Doc Provenance Groups\n",
    "import networkx as nx\n",
    "from pyvis.network import Network\n",
    "\n",
    "def create_doc_provenance(doc_adjacency_matrix, doc_dataset):\n",
    "    doc_provenance_graphs = []\n",
    "    # Connect components\n",
    "    G = nx.from_numpy_array(doc_adjacency_matrix)\n",
    "    # get all connected componentes of the grap\n",
    "    componnets = nx.connected_components(G)\n",
    "\n",
    "    # Insert all connected components that have more than 1 node\n",
    "    # into a list\n",
    "    doc_provenance_graphs = []\n",
    "    for cc in componnets:\n",
    "        graph = G.subgraph(cc)\n",
    "        if graph.number_of_nodes() > 1:\n",
    "            nt = Network()\n",
    "            nt.from_nx(graph)\n",
    "            for index, node in enumerate(nt.nodes):\n",
    "                nt.nodes[index]['title'] = doc_dataset[node['id']]\n",
    "            doc_provenance_graphs.append(nt)\n",
    "\n",
    "    doc_provenance = {}\n",
    "    for graph_id, graph in enumerate(doc_provenance_graphs):\n",
    "        doc_provenance['GROUP-%d'%(graph_id+1)] = {}\n",
    "        doc_provenance['GROUP-%d'%(graph_id+1)] = list(set([ i['title'] for i in graph.nodes]))\n",
    "\n",
    "    return doc_provenance"
   ]
  },
  {
   "cell_type": "code",
   "execution_count": 154,
   "metadata": {},
   "outputs": [],
   "source": [
    "sila_doc_spp = [(data[1], f'../dataset/{data[3]}/{data[2]}-dataset.json') for data in sila_spp]\n",
    "ours_doc_spp = [(data[1], f'../dataset/{data[3]}/{data[2]}-dataset.json') for data in ours_spp]\n",
    "acuna_doc_spp = [(data[1], f'../dataset/{data[3]}/{data[2]}-dataset.json') for data in acuna_spp]\n",
    "\n",
    "sila_doc_spp_v1 = [(data[1], f'../dataset/{data[3]}/{data[2]}-dataset.json') for data in sila_spp_v1]\n",
    "ours_doc_spp_v1 = [(data[1], f'../dataset/{data[3]}/{data[2]}-dataset.json') for data in ours_spp_v1]\n",
    "acuna_doc_spp_v1 = [(data[1], f'../dataset/{data[3]}/{data[2]}-dataset.json') for data in acuna_spp_v1]\n",
    "\n",
    "sila_doc_spp_v2 = [(data[1], f'../dataset/{data[3]}/{data[2]}-dataset.json') for data in sila_spp_v2]\n",
    "ours_doc_spp_v2 = [(data[1], f'../dataset/{data[3]}/{data[2]}-dataset.json') for data in ours_spp_v2]\n",
    "acuna_doc_spp_v2 = [(data[1], f'../dataset/{data[3]}/{data[2]}-dataset.json') for data in acuna_spp_v2]\n"
   ]
  },
  {
   "cell_type": "code",
   "execution_count": 164,
   "metadata": {},
   "outputs": [],
   "source": [
    "doc_provenance = create_doc_provenance(m, spp_doc_dataset)"
   ]
  },
  {
   "cell_type": "code",
   "execution_count": 140,
   "metadata": {},
   "outputs": [],
   "source": [
    "m = create_doc_adj_matrix(sila_doc_spp, spp_doc_dataset)"
   ]
  },
  {
   "cell_type": "code",
   "execution_count": 168,
   "metadata": {},
   "outputs": [
    {
     "data": {
      "text/plain": [
       "{'relationship_precision': 0.8603636501633343,\n",
       " 'relationship_recall': 0.8263715852869296,\n",
       " 'relationship_quality': 0.8430251038408313,\n",
       " 'grouping_precision': 1.0,\n",
       " 'grouping_recall': 0.9835393757257019,\n",
       " 'grouping_quality': 0.9917013876932612,\n",
       " 'global_precision': 1.0,\n",
       " 'global_recall': 0.9917355371900827,\n",
       " 'global_quality': 0.995850622406639}"
      ]
     },
     "execution_count": 168,
     "metadata": {},
     "output_type": "execute_result"
    }
   ],
   "source": [
    "doc_dataset = {}\n",
    "index = 0\n",
    "for d in spp_doc_dataset:\n",
    "    doc_dataset[str(index)] = {'doc_id':d}\n",
    "    index +=1\n",
    "doc_evaluation(doc_provenance, doc_annotation, doc_dataset, m)"
   ]
  },
  {
   "cell_type": "code",
   "execution_count": 175,
   "metadata": {},
   "outputs": [],
   "source": [
    "def digest_doc_results(method_input, doc_dataset, doc_annotation):\n",
    "    \n",
    "    \n",
    "    provenance_matrix = create_doc_adj_matrix(method_input, doc_dataset)\n",
    "    predicted_graphs = create_doc_provenance(provenance_matrix, doc_dataset)\n",
    "    # update format doc_dataset\n",
    "    dict_doc_dataset = {}\n",
    "    index = 0\n",
    "    for d in doc_dataset:\n",
    "        dict_doc_dataset[str(index)] = {'doc_id':d}\n",
    "        index +=1\n",
    "    # Evaluate results\n",
    "    metrics = doc_evaluation(predicted_graphs, doc_annotation,\n",
    "                              dict_doc_dataset, provenance_matrix)\n",
    "    \n",
    "    results = {}\n",
    "    results['pairing'] = metrics[\"relationship_quality\"]\n",
    "    results['grouping'] = metrics[\"grouping_quality\"]\n",
    "    results['classification'] = metrics['global_quality']\n",
    "    \n",
    "    return results"
   ]
  },
  {
   "cell_type": "code",
   "execution_count": 177,
   "metadata": {},
   "outputs": [],
   "source": [
    "# SPP doc results\n",
    "spp_doc_results = {}\n",
    "spp_doc_results['SILA'] = digest_doc_results(sila_doc_spp, spp_doc_dataset, doc_annotation)\n",
    "spp_doc_results['Ours'] = digest_doc_results(ours_doc_spp, spp_doc_dataset, doc_annotation)\n",
    "spp_doc_results['Acuna'] = digest_doc_results(acuna_doc_spp, spp_doc_dataset, doc_annotation)\n"
   ]
  },
  {
   "cell_type": "code",
   "execution_count": 178,
   "metadata": {},
   "outputs": [
    {
     "data": {
      "text/plain": [
       "{'SILA': {'pairing': 0.8430251038408313,\n",
       "  'grouping': 0.9917013876932612,\n",
       "  'classification': 0.995850622406639},\n",
       " 'Ours': {'pairing': 0.8383047259088356,\n",
       "  'grouping': 1.0,\n",
       "  'classification': 1.0},\n",
       " 'Acuna': {'pairing': 0.7182050135612684,\n",
       "  'grouping': 1.0,\n",
       "  'classification': 1.0}}"
      ]
     },
     "execution_count": 178,
     "metadata": {},
     "output_type": "execute_result"
    }
   ],
   "source": [
    "spp_doc_results"
   ]
  },
  {
   "cell_type": "code",
   "execution_count": 180,
   "metadata": {},
   "outputs": [],
   "source": [
    "# SPP-v1 doc results\n",
    "spp_v1_doc_results = {}\n",
    "spp_v1_doc_results['SILA'] = digest_doc_results(sila_doc_spp_v1, spp_v1_doc_dataset, doc_annotation)\n",
    "spp_v1_doc_results['Ours'] = digest_doc_results(ours_doc_spp_v1, spp_v1_doc_dataset, doc_annotation)\n",
    "spp_v1_doc_results['Acuna'] = digest_doc_results(acuna_doc_spp_v1, spp_v1_doc_dataset, doc_annotation)\n"
   ]
  },
  {
   "cell_type": "code",
   "execution_count": 181,
   "metadata": {},
   "outputs": [
    {
     "data": {
      "text/plain": [
       "{'SILA': {'pairing': 0.8430251038408313,\n",
       "  'grouping': 0.9917013876932612,\n",
       "  'classification': 0.995850622406639},\n",
       " 'Ours': {'pairing': 0.8349512500546418,\n",
       "  'grouping': 1.0,\n",
       "  'classification': 1.0},\n",
       " 'Acuna': {'pairing': 0.3295940423477277,\n",
       "  'grouping': 0.21517117726160476,\n",
       "  'classification': 0.5127118644067797}}"
      ]
     },
     "execution_count": 181,
     "metadata": {},
     "output_type": "execute_result"
    }
   ],
   "source": [
    "spp_v1_doc_results"
   ]
  },
  {
   "cell_type": "code",
   "execution_count": 179,
   "metadata": {},
   "outputs": [],
   "source": [
    "# SPP-v2 doc results\n",
    "spp_v2_doc_results = {}\n",
    "spp_v2_doc_results['SILA'] = digest_doc_results(sila_doc_spp_v2, spp_v2_doc_dataset, doc_annotation)\n",
    "spp_v2_doc_results['Ours'] = digest_doc_results(ours_doc_spp_v2, spp_v2_doc_dataset, doc_annotation)\n",
    "spp_v2_doc_results['Acuna'] = digest_doc_results(acuna_doc_spp_v2, spp_v2_doc_dataset, doc_annotation)\n"
   ]
  },
  {
   "cell_type": "code",
   "execution_count": 182,
   "metadata": {},
   "outputs": [
    {
     "data": {
      "text/plain": [
       "{'SILA': {'pairing': 0.8361972230693725,\n",
       "  'grouping': 0.983572965404187,\n",
       "  'classification': 0.9876543209876544},\n",
       " 'Ours': {'pairing': 0.8259535613674006,\n",
       "  'grouping': 1.0,\n",
       "  'classification': 1.0},\n",
       " 'Acuna': {'pairing': 0.05373074202548507,\n",
       "  'grouping': 0.0077622064155237775,\n",
       "  'classification': 0.11713455953533398}}"
      ]
     },
     "execution_count": 182,
     "metadata": {},
     "output_type": "execute_result"
    }
   ],
   "source": [
    "spp_v2_doc_results"
   ]
  }
 ],
 "metadata": {
  "kernelspec": {
   "display_name": "papermill",
   "language": "python",
   "name": "python3"
  },
  "language_info": {
   "codemirror_mode": {
    "name": "ipython",
    "version": 3
   },
   "file_extension": ".py",
   "mimetype": "text/x-python",
   "name": "python",
   "nbconvert_exporter": "python",
   "pygments_lexer": "ipython3",
   "version": "3.8.15"
  }
 },
 "nbformat": 4,
 "nbformat_minor": 4
}
